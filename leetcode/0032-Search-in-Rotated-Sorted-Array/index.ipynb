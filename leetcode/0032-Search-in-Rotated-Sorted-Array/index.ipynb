{
 "cells": [
  {
   "cell_type": "markdown",
   "metadata": {},
   "source": [
    "## 寻找反转数组中的给定值\n",
    "找到返回下标，否则返回-1\n",
    "\n",
    "tips:找到旋转点，即可分为两个有序数组进行判断"
   ]
  },
  {
   "cell_type": "code",
   "execution_count": 37,
   "metadata": {},
   "outputs": [],
   "source": [
    "nums = [4,5,6,7,1,2,3]\n",
    "target = 4\n",
    "result = 0"
   ]
  },
  {
   "cell_type": "code",
   "execution_count": 38,
   "metadata": {},
   "outputs": [
    {
     "name": "stdout",
     "output_type": "stream",
     "text": [
      "0 3\n"
     ]
    },
    {
     "data": {
      "text/plain": [
       "0"
      ]
     },
     "execution_count": 38,
     "metadata": {},
     "output_type": "execute_result"
    }
   ],
   "source": [
    "def search(nums, target):\n",
    "    lo = 0\n",
    "    hi = len(nums) - 1\n",
    "    while lo < hi:\n",
    "        mid = (hi + lo) >> 1\n",
    "        if nums[mid] > nums[hi]:\n",
    "            lo = mid + 1\n",
    "        else:\n",
    "            hi = mid\n",
    "    # 找到最小值，可以分两部分进行二分查找\n",
    "    if target <= nums[-1]:\n",
    "        lo = lo\n",
    "        hi = len(nums) - 1\n",
    "    else:\n",
    "        hi = lo - 1\n",
    "        lo = 0\n",
    "    print(lo, hi)\n",
    "    while lo <= hi:\n",
    "        mid = (lo + hi) >> 1\n",
    "        if nums[mid] == target:\n",
    "            return mid\n",
    "        if nums[mid] > target:\n",
    "            hi = mid - 1\n",
    "        else:\n",
    "            lo = mid + 1\n",
    "    return -1\n",
    "search(nums, target)"
   ]
  },
  {
   "cell_type": "code",
   "execution_count": null,
   "metadata": {},
   "outputs": [],
   "source": []
  }
 ],
 "metadata": {
  "kernelspec": {
   "display_name": "Python 3",
   "language": "python",
   "name": "python3"
  },
  "language_info": {
   "codemirror_mode": {
    "name": "ipython",
    "version": 3
   },
   "file_extension": ".py",
   "mimetype": "text/x-python",
   "name": "python",
   "nbconvert_exporter": "python",
   "pygments_lexer": "ipython3",
   "version": "3.6.4"
  }
 },
 "nbformat": 4,
 "nbformat_minor": 2
}
